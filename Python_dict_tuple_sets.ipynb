{
  "nbformat": 4,
  "nbformat_minor": 0,
  "metadata": {
    "colab": {
      "provenance": [],
      "authorship_tag": "ABX9TyMmWwAS/JEGHxU9dBL57/Ix",
      "include_colab_link": true
    },
    "kernelspec": {
      "name": "python3",
      "display_name": "Python 3"
    },
    "language_info": {
      "name": "python"
    }
  },
  "cells": [
    {
      "cell_type": "markdown",
      "metadata": {
        "id": "view-in-github",
        "colab_type": "text"
      },
      "source": [
        "<a href=\"https://colab.research.google.com/github/sateeshlevelup/ADF/blob/main/Python_dict_tuple_sets.ipynb\" target=\"_parent\"><img src=\"https://colab.research.google.com/assets/colab-badge.svg\" alt=\"Open In Colab\"/></a>"
      ]
    },
    {
      "cell_type": "code",
      "source": [],
      "metadata": {
        "id": "Z2-yxKuFpYU8"
      },
      "execution_count": null,
      "outputs": []
    },
    {
      "cell_type": "markdown",
      "source": [],
      "metadata": {
        "id": "8JVTqVNxpSXL"
      }
    },
    {
      "cell_type": "markdown",
      "source": [
        "# Python Dictionary\n",
        "Key-Value Storage: Unlike lists and tuples, which store values sequentially,\n",
        "dictionaries store data as key-value pairs, making retrieval efficient.\n",
        "\n",
        "Fast Lookups: Dictionary operations like retrieval and insertion are optimized with a hashing mechanism, making them faster than searching in lists.\n",
        "\n",
        "Unordered but Indexed: Unlike lists, dictionaries do not store items in a sequential order, but Python 3.7+ maintains the insertion order.\n",
        "\n",
        "Flexible Keys: Dictionary keys can be of various immutable types, such as strings, numbers, and tuples.\n",
        "\n",
        "Efficient Memory Usage: Dictionaries are optimized for space and performance, making them ideal for large datasets.\n",
        "\n",
        "Useful for Data Mapping: Dictionaries are commonly used in data manipulation, JSON parsing, configuration management, and caching.\n",
        "\n",
        "Mutability: Unlike tuples, dictionaries are mutable, allowing modifications after creation.\n"
      ],
      "metadata": {
        "id": "ZMBxQpsWpTh2"
      }
    },
    {
      "cell_type": "code",
      "execution_count": null,
      "metadata": {
        "id": "9bOrDp1Zo2m7"
      },
      "outputs": [],
      "source": [
        "# dict is defined in {} or dict() constructor\n",
        "\n",
        "student = {\n",
        "\n",
        "         \"key\" :\"value\",\n",
        "         \"key\":\"value\",\n",
        "         \"key\":\"value\"\n",
        "}"
      ]
    },
    {
      "cell_type": "code",
      "source": [
        "student= {\n",
        "\n",
        "          \"name\":\"Jyothi\",\n",
        "          \"age\" : 21,\n",
        "          \"course\":\"Gen AI\"\n",
        "\n",
        "}\n",
        "print(student)\n",
        "\n",
        "\n",
        "student2 = dict(name=\"Jyothi\",age=21,course=\"Gen AI\")\n",
        "print(student2)"
      ],
      "metadata": {
        "colab": {
          "base_uri": "https://localhost:8080/"
        },
        "id": "Ev-eYsEsrCf7",
        "outputId": "f8257ce1-1619-4f06-fea6-e2f3e758756d"
      },
      "execution_count": null,
      "outputs": [
        {
          "output_type": "stream",
          "name": "stdout",
          "text": [
            "{'name': 'Jyothi', 'age': 21, 'course': 'Gen AI'}\n",
            "{'name': 'Jyothi', 'age': 21, 'course': 'Gen AI'}\n"
          ]
        }
      ]
    },
    {
      "cell_type": "code",
      "source": [
        "a = [1,2,3,4,5]\n",
        "\n",
        "print(a[1])"
      ],
      "metadata": {
        "colab": {
          "base_uri": "https://localhost:8080/"
        },
        "id": "3x-N_ROjrrHb",
        "outputId": "bbf040ef-bd98-4e23-bcb4-ad6321109fda"
      },
      "execution_count": null,
      "outputs": [
        {
          "output_type": "stream",
          "name": "stdout",
          "text": [
            "2\n"
          ]
        }
      ]
    },
    {
      "cell_type": "code",
      "source": [
        "# adding and updating Element to DICT\n",
        "\n",
        "student[\"city\"] = \"orrisa\"\n",
        "student[\"phone\"]= 987678899"
      ],
      "metadata": {
        "id": "quQoXfIPsqdc"
      },
      "execution_count": null,
      "outputs": []
    },
    {
      "cell_type": "code",
      "source": [
        "# Accessing Dictionary Elements\n",
        "\n",
        "print(student[\"name\"])\n",
        "print(student.get(\"name\"))\n",
        "print(student.get(\"phone\",\"not Found\"))\n",
        "print(student.get(\"phone\"))\n",
        "print(student)"
      ],
      "metadata": {
        "colab": {
          "base_uri": "https://localhost:8080/"
        },
        "id": "AQAOS1oMr5K_",
        "outputId": "794f4615-6cba-4fb0-b325-000a5ef36369"
      },
      "execution_count": null,
      "outputs": [
        {
          "output_type": "stream",
          "name": "stdout",
          "text": [
            "Jyothi\n",
            "Jyothi\n",
            "987678899\n",
            "987678899\n",
            "{'name': 'Jyothi', 'age': 21, 'course': 'Gen AI', 'city': 'orrisa', 'phone': 987678899}\n"
          ]
        }
      ]
    },
    {
      "cell_type": "code",
      "source": [],
      "metadata": {
        "id": "ubkV7K7RtaRt"
      },
      "execution_count": null,
      "outputs": []
    },
    {
      "cell_type": "code",
      "source": [
        "# remove elements\n",
        "del student[\"age\"]\n",
        "print(student)\n",
        "\n",
        "#pop\n",
        "\n",
        "age"
      ],
      "metadata": {
        "colab": {
          "base_uri": "https://localhost:8080/"
        },
        "id": "uL0kJzmVtH8y",
        "outputId": "c02a7c77-54ca-4a9a-f338-0d340070ed54"
      },
      "execution_count": null,
      "outputs": [
        {
          "output_type": "stream",
          "name": "stdout",
          "text": [
            "{'name': 'Jyothi', 'course': 'Gen AI', 'city': 'orrisa', 'phone': 987678899}\n"
          ]
        }
      ]
    },
    {
      "cell_type": "code",
      "source": [
        "student[\"age\"]= 21\n",
        "print(student)"
      ],
      "metadata": {
        "colab": {
          "base_uri": "https://localhost:8080/"
        },
        "id": "NmVPRm_Mtd3a",
        "outputId": "c5e465bf-4c92-4e50-dfd3-987298df0393"
      },
      "execution_count": null,
      "outputs": [
        {
          "output_type": "stream",
          "name": "stdout",
          "text": [
            "{'name': 'Jyothi', 'course': 'Gen AI', 'city': 'orrisa', 'phone': 987678899, 'age': 21}\n"
          ]
        }
      ]
    },
    {
      "cell_type": "code",
      "source": [
        "#age1 = student.pop(\"phone\")\n",
        "print(age1)\n",
        "print(student)"
      ],
      "metadata": {
        "colab": {
          "base_uri": "https://localhost:8080/"
        },
        "id": "az89-JgNtuEb",
        "outputId": "3391b2b2-67f6-4af8-fa26-23ae9acfe0da"
      },
      "execution_count": null,
      "outputs": [
        {
          "output_type": "stream",
          "name": "stdout",
          "text": [
            "987678899\n",
            "{'name': 'Jyothi', 'course': 'Gen AI', 'city': 'orrisa'}\n"
          ]
        }
      ]
    },
    {
      "cell_type": "code",
      "source": [
        "student.clear()"
      ],
      "metadata": {
        "id": "oCcrV8ckuTvC"
      },
      "execution_count": null,
      "outputs": []
    },
    {
      "cell_type": "code",
      "source": [
        "print(student)"
      ],
      "metadata": {
        "colab": {
          "base_uri": "https://localhost:8080/"
        },
        "id": "zo2DZ9EwuYjY",
        "outputId": "fd7a72fa-93f0-4db5-8526-50075db2582d"
      },
      "execution_count": null,
      "outputs": [
        {
          "output_type": "stream",
          "name": "stdout",
          "text": [
            "{}\n"
          ]
        }
      ]
    },
    {
      "cell_type": "code",
      "source": [
        "student= {\n",
        "\n",
        "          \"name\":\"Jyothi\",\n",
        "          \"age\" : 21,\n",
        "          \"course\":\"Gen AI\"\n",
        "\n",
        "}"
      ],
      "metadata": {
        "id": "U5cB60kmugHH"
      },
      "execution_count": null,
      "outputs": []
    },
    {
      "cell_type": "code",
      "source": [
        "student1= {\n",
        "\n",
        "          \"name\":\"Jyothi\",\n",
        "          \"age\" : 22,\n",
        "          \"course\":\"Gen AI\"\n",
        "\n",
        "}"
      ],
      "metadata": {
        "id": "PC9LNHk_v0cr"
      },
      "execution_count": null,
      "outputs": []
    },
    {
      "cell_type": "code",
      "source": [
        "# operations on Dictionary\n",
        "\n",
        "len(student)\n",
        "\n",
        "#See all keys\n",
        "student.keys() #dict.keys-> output will be in the form of list\n",
        "student.values()\n",
        "student.items() # list of tuples\n",
        "student.get(\"name\")\n",
        "student.update(student1)\n",
        "student3=student.copy()\n",
        "print(student3)"
      ],
      "metadata": {
        "colab": {
          "base_uri": "https://localhost:8080/"
        },
        "id": "UzX1-sCluiWC",
        "outputId": "3913551e-aee2-48a4-95ef-407d30f7ae31"
      },
      "execution_count": null,
      "outputs": [
        {
          "output_type": "stream",
          "name": "stdout",
          "text": [
            "{'name': 'Jyothi', 'age': 22, 'course': 'Gen AI'}\n"
          ]
        }
      ]
    },
    {
      "cell_type": "code",
      "source": [],
      "metadata": {
        "id": "hCjXEN7Q9m1M"
      },
      "execution_count": null,
      "outputs": []
    },
    {
      "cell_type": "code",
      "source": [],
      "metadata": {
        "id": "EPVBIESM9nrM"
      },
      "execution_count": null,
      "outputs": []
    },
    {
      "cell_type": "markdown",
      "source": [
        "# Python Tuples"
      ],
      "metadata": {
        "id": "1biKWHQ_9suS"
      }
    },
    {
      "cell_type": "markdown",
      "source": [
        "A tuple in Python is an immutable ordered collection of elements. Tuples are similar to lists, but unlike lists, they cannot be changed after their creation (i.e., they are immutable). Tuples can hold elements of different data types. The main characteristics of tuples are being ordered , heterogeneous and immutable."
      ],
      "metadata": {
        "id": "umd6M3z0-8C1"
      }
    },
    {
      "cell_type": "code",
      "source": [
        "# tuple are created using ()\n",
        "\n",
        "a = ()\n",
        "\n",
        "print(a)\n",
        "\n",
        "\n",
        "tup = (\"Level\",\"up\")\n",
        "print(tup)\n",
        "\n",
        "tup1 = (1,2,3,4,5,6)\n",
        "print(tup1)\n",
        "\n",
        "lis = [1,2,3,4,5,6]\n",
        "print(tuple(lis))"
      ],
      "metadata": {
        "id": "W3sHnf0I9nUZ",
        "colab": {
          "base_uri": "https://localhost:8080/"
        },
        "outputId": "832772eb-abee-435d-bcf4-61e96fc23c8f"
      },
      "execution_count": null,
      "outputs": [
        {
          "output_type": "stream",
          "name": "stdout",
          "text": [
            "()\n",
            "('Level', 'up')\n",
            "(1, 2, 3, 4, 5, 6)\n",
            "(1, 2, 3, 4, 5, 6)\n"
          ]
        }
      ]
    },
    {
      "cell_type": "code",
      "source": [
        "# Accessing tuple with indexing\n",
        "\n",
        "tup =('LevelUP','i','am','laerning','python')\n",
        "\n",
        "print(tup[0])\n",
        "\n",
        "print(tup[1:4])\n",
        "\n",
        "print(tup[:3])\n",
        "\n",
        "print(tup[3:])\n",
        "\n"
      ],
      "metadata": {
        "colab": {
          "base_uri": "https://localhost:8080/"
        },
        "id": "RJDwCGc1AAUF",
        "outputId": "7a4c024e-66c7-49bc-a4ab-b8eac4cc0ef1"
      },
      "execution_count": null,
      "outputs": [
        {
          "output_type": "stream",
          "name": "stdout",
          "text": [
            "LevelUP\n",
            "('i', 'am', 'laerning')\n",
            "('LevelUP', 'i', 'am')\n",
            "('laerning', 'python')\n"
          ]
        }
      ]
    },
    {
      "cell_type": "code",
      "source": [
        "# Concatenation of tuples\n",
        "\n",
        "tup1 = (0,1,2,3)\n",
        "tup2 =(\"LeveuP\",\"learning\",\"Python\" )\n",
        "\n",
        "tup3 = tup1+tup2\n",
        "print(tup3)"
      ],
      "metadata": {
        "colab": {
          "base_uri": "https://localhost:8080/"
        },
        "id": "NskxJCTwArzl",
        "outputId": "4babb606-231d-4880-a65c-73ce8778fdf9"
      },
      "execution_count": null,
      "outputs": [
        {
          "output_type": "stream",
          "name": "stdout",
          "text": [
            "(0, 1, 2, 3, 'LeveuP', 'learning', 'Python')\n"
          ]
        }
      ]
    },
    {
      "cell_type": "code",
      "source": [
        "tup =tuple('iamlearnnigpython')\n",
        "print(tup[1:])\n",
        "print(tup[::-1])\n",
        "print(tup[4:9])\n"
      ],
      "metadata": {
        "colab": {
          "base_uri": "https://localhost:8080/"
        },
        "id": "5MqHHYJOBG16",
        "outputId": "3507bad3-e372-4880-deae-a71b2296a279"
      },
      "execution_count": null,
      "outputs": [
        {
          "output_type": "stream",
          "name": "stdout",
          "text": [
            "('a', 'm', 'l', 'e', 'a', 'r', 'n', 'i', 'n', 'g', 'p', 'y', 't', 'h', 'o', 'n')\n",
            "('n', 'o', 'h', 't', 'y', 'p', 'g', 'n', 'i', 'n', 'r', 'a', 'e', 'l', 'm', 'a', 'i')\n",
            "('e', 'a', 'r', 'n', 'i')\n"
          ]
        }
      ]
    },
    {
      "cell_type": "markdown",
      "source": [
        "Count\n",
        "\n",
        "len\n",
        "\n",
        "min\n",
        "\n",
        "max\n",
        "\n",
        "sum\n",
        "\n",
        "sorted\n",
        "\n",
        "\n",
        "all\n",
        "\n",
        "any\n"
      ],
      "metadata": {
        "id": "SSNpULcsBr-x"
      }
    },
    {
      "cell_type": "code",
      "source": [
        "# in build methods\n",
        "\n",
        "\n",
        "tup = (1,2,2,4)\n",
        "\n",
        "count_of_tup = tup.count(2)\n",
        "print(count_of_tup)\n",
        "\n",
        "index_of_tup = tup.index(4)\n",
        "print(index_of_tup)"
      ],
      "metadata": {
        "colab": {
          "base_uri": "https://localhost:8080/"
        },
        "id": "6XtllcVfBoSz",
        "outputId": "cd87eae6-6ba0-46eb-f565-e18d3609b5d1"
      },
      "execution_count": null,
      "outputs": [
        {
          "output_type": "stream",
          "name": "stdout",
          "text": [
            "2\n",
            "3\n"
          ]
        }
      ]
    },
    {
      "cell_type": "code",
      "source": [
        "t4 = (\"hello \") * 10\n",
        "\n",
        "print(t4)"
      ],
      "metadata": {
        "colab": {
          "base_uri": "https://localhost:8080/"
        },
        "id": "2MJ20aCJCZwa",
        "outputId": "9d082172-9a1c-4412-ec0c-031e7f9d82bf"
      },
      "execution_count": null,
      "outputs": [
        {
          "output_type": "stream",
          "name": "stdout",
          "text": [
            "hello hello hello hello hello hello hello hello hello hello \n"
          ]
        }
      ]
    },
    {
      "cell_type": "code",
      "source": [
        "tuop3= (10,11,12,13,14,15,16)\n",
        "len(tuop3)"
      ],
      "metadata": {
        "colab": {
          "base_uri": "https://localhost:8080/"
        },
        "id": "oZJMQbULCs8J",
        "outputId": "81aba1a1-780d-43be-fe3f-56708587af50"
      },
      "execution_count": null,
      "outputs": [
        {
          "output_type": "execute_result",
          "data": {
            "text/plain": [
              "7"
            ]
          },
          "metadata": {},
          "execution_count": 16
        }
      ]
    },
    {
      "cell_type": "code",
      "source": [
        "tup3= (10,11,12,13,14,15,16)\n",
        "smallaest_value= min(tup3)\n",
        "print(smallaest_value)"
      ],
      "metadata": {
        "colab": {
          "base_uri": "https://localhost:8080/"
        },
        "id": "6cE9iu0sC3Z2",
        "outputId": "3a42083c-4a61-43f5-cb44-b25cea21efff"
      },
      "execution_count": null,
      "outputs": [
        {
          "output_type": "stream",
          "name": "stdout",
          "text": [
            "10\n"
          ]
        }
      ]
    },
    {
      "cell_type": "code",
      "source": [
        "tup3= (10,11,12,13,14,15,16)\n",
        "higest_value= max(tup3)\n",
        "print(higest_value)"
      ],
      "metadata": {
        "colab": {
          "base_uri": "https://localhost:8080/"
        },
        "id": "-k-yQ5f7DAWU",
        "outputId": "6618f33f-b5fd-4bf0-d7b9-e85a335bf45c"
      },
      "execution_count": null,
      "outputs": [
        {
          "output_type": "stream",
          "name": "stdout",
          "text": [
            "16\n"
          ]
        }
      ]
    },
    {
      "cell_type": "code",
      "source": [
        "tup3= (10,11,12,13,14,15,16)\n",
        "sum_value= sum(tup3)\n",
        "print(sum_value)"
      ],
      "metadata": {
        "colab": {
          "base_uri": "https://localhost:8080/"
        },
        "id": "L2BKxZITDKcC",
        "outputId": "8ef97d3f-6a99-4b0c-a8a3-1227c3bc4f74"
      },
      "execution_count": null,
      "outputs": [
        {
          "output_type": "stream",
          "name": "stdout",
          "text": [
            "91\n"
          ]
        }
      ]
    },
    {
      "cell_type": "code",
      "source": [
        "my_tuple = (9,2,1,3,7,4,5)\n",
        "sorted_tuple = sorted(my_tuple)\n",
        "print(sorted_tuple)"
      ],
      "metadata": {
        "colab": {
          "base_uri": "https://localhost:8080/"
        },
        "id": "fPg7Q-1UDU-t",
        "outputId": "13ae9915-be4c-454d-df50-78ca6fa959e4"
      },
      "execution_count": null,
      "outputs": [
        {
          "output_type": "stream",
          "name": "stdout",
          "text": [
            "[1, 2, 3, 4, 5, 7, 9]\n"
          ]
        }
      ]
    },
    {
      "cell_type": "markdown",
      "source": [
        "# Sets"
      ],
      "metadata": {
        "id": "Jk-UpzKFDyOZ"
      }
    },
    {
      "cell_type": "markdown",
      "source": [
        "Python set is an unordered collection of multiple items having different datatypes. In Python, sets are mutable, unindexed and do not contain duplicates. The order of elements in a set is not preserved and can change."
      ],
      "metadata": {
        "id": "KWGntcWqD8R2"
      }
    },
    {
      "cell_type": "markdown",
      "source": [
        "Curly braces {}, second set()"
      ],
      "metadata": {
        "id": "QhNKOwtEEmZx"
      }
    },
    {
      "cell_type": "code",
      "source": [
        "my_set ={1,2,3,2}\n",
        "print(my_set)"
      ],
      "metadata": {
        "colab": {
          "base_uri": "https://localhost:8080/"
        },
        "id": "01oiD1FHEmI7",
        "outputId": "014a573d-1363-4277-a880-f34cdfdaeb61"
      },
      "execution_count": null,
      "outputs": [
        {
          "output_type": "stream",
          "name": "stdout",
          "text": [
            "{1, 2, 3}\n"
          ]
        }
      ]
    },
    {
      "cell_type": "code",
      "source": [
        "fruits = {\"apple\",\"banana\",\"cherry\"}\n",
        "print(fruits)"
      ],
      "metadata": {
        "colab": {
          "base_uri": "https://localhost:8080/"
        },
        "id": "jzT-vGAXEldH",
        "outputId": "0914e8c6-77f6-4440-cbc0-f06efdc996d6"
      },
      "execution_count": null,
      "outputs": [
        {
          "output_type": "stream",
          "name": "stdout",
          "text": [
            "{'apple', 'cherry', 'banana'}\n"
          ]
        }
      ]
    },
    {
      "cell_type": "code",
      "source": [
        "fruits = {\"apple\",\"banana\",\"cherry\",\"banana\"}\n",
        "print(fruits)\n"
      ],
      "metadata": {
        "colab": {
          "base_uri": "https://localhost:8080/",
          "height": 198
        },
        "id": "-aZT744tFHFU",
        "outputId": "17fc1468-6940-4466-c87b-14be80911bf2"
      },
      "execution_count": null,
      "outputs": [
        {
          "output_type": "stream",
          "name": "stdout",
          "text": [
            "{'apple', 'cherry', 'banana'}\n"
          ]
        },
        {
          "output_type": "error",
          "ename": "TypeError",
          "evalue": "'set' object is not subscriptable",
          "traceback": [
            "\u001b[0;31m---------------------------------------------------------------------------\u001b[0m",
            "\u001b[0;31mTypeError\u001b[0m                                 Traceback (most recent call last)",
            "\u001b[0;32m<ipython-input-25-d4409af04d04>\u001b[0m in \u001b[0;36m<cell line: 0>\u001b[0;34m()\u001b[0m\n\u001b[1;32m      1\u001b[0m \u001b[0mfruits\u001b[0m \u001b[0;34m=\u001b[0m \u001b[0;34m{\u001b[0m\u001b[0;34m\"apple\"\u001b[0m\u001b[0;34m,\u001b[0m\u001b[0;34m\"banana\"\u001b[0m\u001b[0;34m,\u001b[0m\u001b[0;34m\"cherry\"\u001b[0m\u001b[0;34m,\u001b[0m\u001b[0;34m\"banana\"\u001b[0m\u001b[0;34m}\u001b[0m\u001b[0;34m\u001b[0m\u001b[0;34m\u001b[0m\u001b[0m\n\u001b[1;32m      2\u001b[0m \u001b[0mprint\u001b[0m\u001b[0;34m(\u001b[0m\u001b[0mfruits\u001b[0m\u001b[0;34m)\u001b[0m\u001b[0;34m\u001b[0m\u001b[0;34m\u001b[0m\u001b[0m\n\u001b[0;32m----> 3\u001b[0;31m \u001b[0mfruits\u001b[0m\u001b[0;34m[\u001b[0m\u001b[0;36m1\u001b[0m\u001b[0;34m]\u001b[0m\u001b[0;34m\u001b[0m\u001b[0;34m\u001b[0m\u001b[0m\n\u001b[0m",
            "\u001b[0;31mTypeError\u001b[0m: 'set' object is not subscriptable"
          ]
        }
      ]
    },
    {
      "cell_type": "code",
      "source": [
        "my_set ={1,2,3}\n",
        "my_set.add(4)\n",
        "print(my_set)"
      ],
      "metadata": {
        "colab": {
          "base_uri": "https://localhost:8080/"
        },
        "id": "Y1CdJokvFWM0",
        "outputId": "58ce0a43-5d33-495c-ce78-f1ac224a6b1e"
      },
      "execution_count": null,
      "outputs": [
        {
          "output_type": "stream",
          "name": "stdout",
          "text": [
            "{1, 2, 3, 4}\n"
          ]
        }
      ]
    },
    {
      "cell_type": "code",
      "source": [
        "my_set.remove(4)\n",
        "print(my_set)"
      ],
      "metadata": {
        "colab": {
          "base_uri": "https://localhost:8080/"
        },
        "id": "Ixly4KLwFgvC",
        "outputId": "da727899-32fe-4907-e366-cae6dc1af647"
      },
      "execution_count": null,
      "outputs": [
        {
          "output_type": "stream",
          "name": "stdout",
          "text": [
            "{1, 2, 3}\n"
          ]
        }
      ]
    },
    {
      "cell_type": "code",
      "source": [
        "myset1 ={1,2,3}\n",
        "myset2 ={3,4,5}\n",
        "\n",
        "s_union =myset1.union(myset2)\n",
        "print(s_union)"
      ],
      "metadata": {
        "colab": {
          "base_uri": "https://localhost:8080/"
        },
        "id": "omjqsZRrFoyy",
        "outputId": "2360609b-23d5-4b20-db70-e8ff2f1a777c"
      },
      "execution_count": null,
      "outputs": [
        {
          "output_type": "stream",
          "name": "stdout",
          "text": [
            "{1, 2, 3, 4, 5}\n"
          ]
        }
      ]
    },
    {
      "cell_type": "code",
      "source": [
        "1 not in myset1"
      ],
      "metadata": {
        "colab": {
          "base_uri": "https://localhost:8080/"
        },
        "id": "fmBiC1rOF3a7",
        "outputId": "624d4fc6-2a4f-41c3-a56e-99d78bbbd1cc"
      },
      "execution_count": null,
      "outputs": [
        {
          "output_type": "execute_result",
          "data": {
            "text/plain": [
              "False"
            ]
          },
          "metadata": {},
          "execution_count": 30
        }
      ]
    },
    {
      "cell_type": "markdown",
      "source": [
        "\n",
        "\n",
        "| **Data Structure** | **Definition / Syntax**                                 | **Mutability**                                                  | **Ordered?**                                                        | **Duplicates**                                                    | **Indexing & Access**                                            | **Common Use Cases**                                                                                     |\n",
        "|--------------------|---------------------------------------------------------|-----------------------------------------------------------------|---------------------------------------------------------------------|-------------------------------------------------------------------|------------------------------------------------------------------|-----------------------------------------------------------------------------------------------------------|\n",
        "| **List**           | - Literal: `[item1, item2, ...]`<br>- Constructor: `list()`  | **Mutable** <br>(can add, remove, or change elements)           | **Yes** <br>(insertion order is preserved)                          | **Allowed**                                                       | - **Zero-based** index <br>- Supports slicing                     | - General-purpose, dynamic array <br>- Sequential/ordered data where updates are common                  |\n",
        "| **Tuple**          | - Literal: `(item1, item2, ...)`<br>- Constructor: `tuple()` | **Immutable** <br>(cannot add, remove, or change elements)       | **Yes** <br>(in the order elements were defined)                    | **Allowed**                                                       | - **Zero-based** index <br>- Supports slicing (read-only)         | - Fixed collections <br>- Safe from modifications <br>- Can be used as dict keys because they’re hashable |\n",
        "| **Set**            | - Literal: `{item1, item2, ...}`<br>- Constructor: `set()`   | **Mutable** <br>(can add/remove elements; but no item *reassignment* because there’s no index) | **No** <br>(unordered collection)                                    | **Not Allowed** <br>(all items must be unique)                   | - No direct index access <br>- Access via membership checks (`in`) | - Membership testing <br>- Removing duplicates <br>- Mathematical set operations (union, intersection, etc.) |\n",
        "| **Dictionary**     | - Literal: `{key1: val1, key2: val2, ...}`<br>- Constructor: `dict()` | **Mutable** <br>(can add, remove, or change key-value pairs)    | **Yes** <br>(insertion order is preserved as of Python 3.7+)         | **Keys must be unique** <br> (values can be duplicated)           | - **Key-based** access <br>- `dict_var[key] = value`               | - Fast lookups by key <br>- Structured data <br>- Configuration, mappings, or object-like data storage   |\n",
        "| **String**         | - Literal: `\"Hello\"` or `'Hello'`<br>- Constructor: `str()`  | **Immutable** <br>(cannot modify characters in place)           | **Yes** <br>(character order is preserved)                          | **Allowed** <br>(characters can repeat)                           | - **Zero-based** index <br>- Supports slicing (read-only)         | - Text/character data <br>- Common string manipulations (slicing, concatenation, etc.)                  |\n",
        "\n",
        "---\n",
        "\n",
        "## Additional Notes\n",
        "\n",
        "1. **Lists vs. Tuples**  \n",
        "   - Use **lists** for collections that may change over time (append, remove, replace elements).  \n",
        "   - Use **tuples** for fixed collections or when you need an **immutable** sequence (e.g., coordinates, database records that shouldn’t change).\n",
        "\n",
        "2. **Sets**  \n",
        "   - Great for **fast membership testing** (`element in set`) and removing duplicates from a sequence.  \n",
        "   - Support mathematical operations: `union (|)`, `intersection (&)`, `difference (-)`, etc.\n",
        "\n",
        "3. **Dictionaries**  \n",
        "   - Store **key-value** pairs with quick lookups.  \n",
        "   - Python 3.7+ keeps insertion order (for older versions, order was not guaranteed).\n",
        "\n",
        "4. **Strings**  \n",
        "   - Treated as a **sequence of characters**.  \n",
        "   - Common string operations: concatenation, slicing, case transformations, splitting, etc.  \n",
        "   - Immutable, so operations like `replace()` or `strip()` return **new** strings.\n",
        "\n",
        "With this overview, you can choose the most suitable data structure for a given programming task in Python."
      ],
      "metadata": {
        "id": "8gAPyvjCHVZq"
      }
    },
    {
      "cell_type": "markdown",
      "source": [],
      "metadata": {
        "id": "9U4QiF4GIOOc"
      }
    },
    {
      "cell_type": "markdown",
      "source": [
        "# range()"
      ],
      "metadata": {
        "id": "UU_Fd9vQIPHT"
      }
    },
    {
      "cell_type": "markdown",
      "source": [
        "Range is a built-in-function in python that generates a sequence of intergers\n",
        "-> for loops to specify how many times the loop should run"
      ],
      "metadata": {
        "id": "Sfk-TLcgITCf"
      }
    },
    {
      "cell_type": "code",
      "source": [
        "for num in range(5,15):\n",
        "  print(num)"
      ],
      "metadata": {
        "colab": {
          "base_uri": "https://localhost:8080/"
        },
        "id": "eFYi9fdAIkrS",
        "outputId": "11b7e876-de5f-492c-ee52-65feec92d25b"
      },
      "execution_count": null,
      "outputs": [
        {
          "output_type": "stream",
          "name": "stdout",
          "text": [
            "5\n",
            "6\n",
            "7\n",
            "8\n",
            "9\n",
            "10\n",
            "11\n",
            "12\n",
            "13\n",
            "14\n"
          ]
        }
      ]
    },
    {
      "cell_type": "code",
      "source": [],
      "metadata": {
        "id": "tWrisZQkIozC"
      },
      "execution_count": null,
      "outputs": []
    },
    {
      "cell_type": "markdown",
      "source": [
        "range(start,stop)\n",
        "range(Start,stop,step)"
      ],
      "metadata": {
        "id": "6-qY0NcxJIfR"
      }
    },
    {
      "cell_type": "code",
      "source": [
        "for num in range(5,25,3):\n",
        "  print(num)"
      ],
      "metadata": {
        "colab": {
          "base_uri": "https://localhost:8080/"
        },
        "id": "Xi8inP9LJRGc",
        "outputId": "0563c8a0-a400-4f59-9fdf-477ae648ce01"
      },
      "execution_count": null,
      "outputs": [
        {
          "output_type": "stream",
          "name": "stdout",
          "text": [
            "5\n",
            "8\n",
            "11\n",
            "14\n",
            "17\n",
            "20\n",
            "23\n"
          ]
        }
      ]
    },
    {
      "cell_type": "code",
      "source": [
        "r = range(11)\n",
        "print(list(r))\n",
        "print(tuple(r))"
      ],
      "metadata": {
        "colab": {
          "base_uri": "https://localhost:8080/"
        },
        "id": "5vpI3k5pJlK_",
        "outputId": "a7837fad-0262-4c54-fa25-fe3a77158270"
      },
      "execution_count": null,
      "outputs": [
        {
          "output_type": "stream",
          "name": "stdout",
          "text": [
            "[0, 1, 2, 3, 4, 5, 6, 7, 8, 9, 10]\n",
            "(0, 1, 2, 3, 4, 5, 6, 7, 8, 9, 10)\n"
          ]
        }
      ]
    },
    {
      "cell_type": "code",
      "source": [
        "total = sum(range(1,6))\n",
        "print(\"Sum from 1 to 5:\",total)"
      ],
      "metadata": {
        "colab": {
          "base_uri": "https://localhost:8080/"
        },
        "id": "63b0-TmCJ2st",
        "outputId": "0a25d71f-7ed7-421e-cec4-b12f0c7ff420"
      },
      "execution_count": null,
      "outputs": [
        {
          "output_type": "stream",
          "name": "stdout",
          "text": [
            "Sum from 1 to 5: 15\n"
          ]
        }
      ]
    },
    {
      "cell_type": "code",
      "source": [],
      "metadata": {
        "id": "v6nCqElwKieK"
      },
      "execution_count": null,
      "outputs": []
    },
    {
      "cell_type": "code",
      "source": [],
      "metadata": {
        "id": "t4zPOnB3KiyK"
      },
      "execution_count": null,
      "outputs": []
    },
    {
      "cell_type": "code",
      "source": [],
      "metadata": {
        "id": "wjToE9ZbKjGM"
      },
      "execution_count": null,
      "outputs": []
    },
    {
      "cell_type": "code",
      "source": [],
      "metadata": {
        "id": "1C9b9e-7KjS4"
      },
      "execution_count": null,
      "outputs": []
    },
    {
      "cell_type": "code",
      "source": [],
      "metadata": {
        "id": "Y0SNjYWvKjoZ"
      },
      "execution_count": null,
      "outputs": []
    },
    {
      "cell_type": "markdown",
      "source": [
        "\n",
        "\n",
        "## Tuples (Assignments 1-12)\n",
        "\n",
        "1. **Basic Tuple Creation**  \n",
        "   - Create a tuple of 5 different integers.  \n",
        "   - Print the tuple and its length.  \n",
        "   - Explain why tuples are immutable.\n",
        "\n",
        "2. **Accessing and Slicing**  \n",
        "   - Given a tuple `(10, 20, 30, 40, 50, 60)`, print:  \n",
        "     - The first element  \n",
        "     - The last element  \n",
        "     - A slice of the middle four elements  \n",
        "   - Explain negative indexing with an example.\n",
        "\n",
        "3. **Tuple Concatenation**  \n",
        "   - Create two tuples:  \n",
        "     - `tuple_a = (1, 2, 3)`  \n",
        "     - `tuple_b = (\"a\", \"b\", \"c\")`  \n",
        "   - Concatenate them into a new tuple and print the result.\n",
        "\n",
        "4. **Repetition**  \n",
        "   - Create a tuple `(\"repeat\",)` and repeat it 5 times using the `*` operator.  \n",
        "   - Print the resulting tuple.\n",
        "\n",
        "5. **Tuple Methods**  \n",
        "   - Given a tuple with repeated numbers, e.g., `(2, 5, 2, 7, 2, 9, 5)`:  \n",
        "     - Count how many times `2` appears.  \n",
        "     - Find the index of the first occurrence of `5`.\n",
        "\n",
        "6. **Converting List to Tuple**  \n",
        "   - Take a list from user input, e.g. `[\"apple\", \"banana\", \"cherry\"]`.  \n",
        "   - Convert it to a tuple.  \n",
        "   - Print both the list and the tuple to show differences in representation.\n",
        "\n",
        "7. **Unpacking Tuples**  \n",
        "   - Create a tuple of three variables: `(name, age, city)`.  \n",
        "   - Unpack it into separate variables.  \n",
        "   - Print each variable on a separate line.\n",
        "\n",
        "8. **Nested Tuples**  \n",
        "   - Create a tuple containing 3 smaller tuples:  \n",
        "     ```python\n",
        "     master_tuple = (\n",
        "       (1, 2, 3),\n",
        "       (\"a\", \"b\", \"c\"),\n",
        "       (True, False, True)\n",
        "     )\n",
        "     ```\n",
        "   - Print each nested tuple, then access an individual element from each nested tuple.\n",
        "\n",
        "9. **Check Existence**  \n",
        "   - Given a tuple of strings: `(\"red\", \"blue\", \"green\", \"yellow\")`.  \n",
        "   - Ask the user for a color. Check if the color is in the tuple, and print an appropriate message.\n",
        "\n",
        "10. **Tuple to String**  \n",
        "    - Create a tuple of characters: `('P', 'y', 't', 'h', 'o', 'n')`.  \n",
        "    - Join them into a single string `\"Python\"` using `''.join()` and print it.\n",
        "\n",
        "11. **Min, Max, Sum**  \n",
        "    - Create a tuple of random integers, e.g. `(4, 1, 9, 3, 2)`.  \n",
        "    - Print the minimum value, maximum value, and the sum of all elements.\n",
        "\n",
        "12. **Immutable Behavior**  \n",
        "    - Attempt to change the second element in a tuple `(10, 20, 30)`.  \n",
        "    - Show that this throws a `TypeError`.  \n",
        "    - Explain why immutability is useful in certain scenarios.\n",
        "\n",
        "---\n",
        "\n",
        "## Sets (Assignments 13-24)\n",
        "\n",
        "13. **Basic Set Operations**  \n",
        "    - Create a set of numbers `{1, 2, 3, 4, 5}`.  \n",
        "    - Print the set and verify that duplicate elements added are not reflected in the set.\n",
        "\n",
        "14. **Add and Remove**  \n",
        "    - Start with an empty set.  \n",
        "    - Use `add()` to insert elements one by one.  \n",
        "    - Use `remove()` (or `discard()`) to remove one element.  \n",
        "    - Print the final set.\n",
        "\n",
        "15. **Set Membership**  \n",
        "    - Given a set `{\"apple\", \"banana\", \"cherry\"}`, ask the user for a fruit.  \n",
        "    - Print whether or not that fruit is in the set.\n",
        "\n",
        "16. **Union and Intersection**  \n",
        "    - Create two sets:  \n",
        "      - `set_a = {1, 2, 3, 4}`  \n",
        "      - `set_b = {3, 4, 5, 6}`  \n",
        "    - Print the union and the intersection of these sets.\n",
        "\n",
        "17. **Difference and Symmetric Difference**  \n",
        "    - Using the same sets from assignment 16 (`set_a` and `set_b`):  \n",
        "      - Print the difference `set_a - set_b` and `set_b - set_a`.  \n",
        "      - Print the symmetric difference of the two sets.\n",
        "\n",
        "18. **Set from List**  \n",
        "    - Take a list of numbers with duplicates, e.g., `[1, 2, 2, 3, 4, 4, 4, 5]`.  \n",
        "    - Convert it to a set to remove duplicates.  \n",
        "    - Print the unique elements.\n",
        "\n",
        "19. **Frozenset**  \n",
        "    - Create a frozenset from a list of names.  \n",
        "    - Demonstrate that you cannot add or remove items from a frozenset.  \n",
        "    - Explain practical scenarios where an immutable set is beneficial.\n",
        "\n",
        "20. **isdisjoint, issubset, issuperset**  \n",
        "    - Given two sets, check if they are disjoint (no elements in common).  \n",
        "    - Check if one set is a subset of the other.  \n",
        "    - Check if one set is a superset of the other.  \n",
        "    - Print the results.\n",
        "\n",
        "21. **Iterating Over a Set**  \n",
        "    - Create a set of 5 random integers.  \n",
        "    - Use a `for` loop to print each element on a new line.  \n",
        "    - Note that the output order is not guaranteed.\n",
        "\n",
        "22. **Filter Unique Words**  \n",
        "    - Ask the user to enter a sentence.  \n",
        "    - Split the sentence into words and store them in a set to remove duplicates.  \n",
        "    - Print the unique words.\n",
        "\n",
        "23. **Pop Operation**  \n",
        "    - Create a set of colors.  \n",
        "    - Use `.pop()` multiple times to see which element is removed each time.  \n",
        "    - Explain that `pop()` removes an **arbitrary** element since sets are unordered.\n",
        "\n",
        "24. **Copying Sets**  \n",
        "    - Create a set `original_set = {1, 3, 5}`.  \n",
        "    - Make a copy of the set using either `copy()` or `set(...)`.  \n",
        "    - Add elements to the original set and show the copied set remains unchanged.\n",
        "\n",
        "---\n",
        "\n",
        "## Dictionaries (Assignments 25-36)\n",
        "\n",
        "25. **Basic Dictionary Creation**  \n",
        "    - Create a dictionary with keys `\"name\"`, `\"age\"`, and `\"city\"`.  \n",
        "    - Print the dictionary.\n",
        "\n",
        "26. **Accessing Values**  \n",
        "    - Given a dictionary `student = {\"name\": \"John\", \"age\": 18, \"grade\": \"A\"}`, print each value by accessing `student[\"key\"]`.  \n",
        "    - Also show accessing a non-existent key and explain the error or use `get()`.\n",
        "\n",
        "27. **Adding and Updating**  \n",
        "    - Start with an empty dictionary `my_dict = {}`.  \n",
        "    - Add a key `\"language\"` with value `\"Python\"`.  \n",
        "    - Update the value of `\"language\"` to `\"Java\"`.  \n",
        "    - Print the final dictionary.\n",
        "\n",
        "28. **Deleting Items**  \n",
        "    - Given a dictionary `{\"brand\": \"Toyota\", \"model\": \"Corolla\", \"year\": 2020}`, remove the `\"year\"` key using `del`.  \n",
        "    - Print the dictionary to confirm removal.\n",
        "\n",
        "29. **Looping Through a Dictionary**  \n",
        "    - Create a dictionary of 3-4 key-value pairs.  \n",
        "    - Print all keys, all values, and all items (key-value pairs) using different loops.\n",
        "\n",
        "30. **Check Existence of Key**  \n",
        "    - Given a dictionary `{\"red\": 1, \"blue\": 2, \"green\": 3}`, ask the user for a color.  \n",
        "    - Check if the color is in the dictionary keys. Print the corresponding value if found.\n",
        "\n",
        "31. **Dictionary Methods**  \n",
        "    - Experiment with `keys()`, `values()`, `items()`.  \n",
        "    - Print the results to see how they differ.  \n",
        "    - Convert these views to lists/tuples and print them.\n",
        "\n",
        "32. **Merging Two Dictionaries**  \n",
        "    - Create two dictionaries:  \n",
        "      - `dict_a = {\"x\": 1, \"y\": 2}`  \n",
        "      - `dict_b = {\"y\": 10, \"z\": 3}`  \n",
        "    - Merge them using `.update()` or the `**` operator.  \n",
        "    - Check how conflicting keys (`\"y\"`) are handled.\n",
        "\n",
        "33. **Default Values with `get()`**  \n",
        "    - Use a dictionary `contacts = {\"Alice\": \"123-456\", \"Bob\": \"987-654\"}`.  \n",
        "    - Ask the user for a name to search.  \n",
        "    - Print `contacts.get(name, \"Not Found\")`.\n",
        "\n",
        "34. **Dictionary of Lists**  \n",
        "    - Create a dictionary where each key is a student name and the value is a list of their grades.  \n",
        "    - Example: `{\"Alice\": [85, 90], \"Bob\": [78, 88], \"Carol\": [92, 95]}`.  \n",
        "    - Print each student’s name and average grade.\n",
        "\n",
        "35. **Nested Dictionary**  \n",
        "    - Create a dictionary of dictionaries. For instance:  \n",
        "      ```python\n",
        "      employees = {\n",
        "          \"emp1\": {\"name\": \"John\", \"role\": \"Engineer\"},\n",
        "          \"emp2\": {\"name\": \"Sara\", \"role\": \"Manager\"}\n",
        "      }\n",
        "      ```  \n",
        "    - Print the nested values for each employee.\n",
        "\n",
        "36. **Counting Characters**  \n",
        "    - Write a program that takes a string input (e.g. `\"banana\"`).  \n",
        "    - Create a dictionary that maps each character to the number of occurrences.  \n",
        "    - Print the dictionary.\n",
        "\n",
        "---\n",
        "\n",
        "## Range (Assignments 37-48)\n",
        "\n",
        "37. **Basic `range(stop)`**  \n",
        "    - Write a for-loop using `range(5)` that prints numbers from 0 to 4.\n",
        "\n",
        "38. **`range(start, stop)`**  \n",
        "    - Print numbers from 3 to 7 (inclusive) using `range(3, 8)`.  \n",
        "    - Explain why the stop argument is exclusive.\n",
        "\n",
        "39. **`range(start, stop, step)`**  \n",
        "    - Print every second number from 2 to 10 (i.e., 2, 4, 6, 8).  \n",
        "    - Show how to do this with `range(2, 10, 2)`.\n",
        "\n",
        "40. **Negative Step**  \n",
        "    - Print numbers from 10 down to 1 using a negative step: `range(10, 0, -1)`.\n",
        "\n",
        "41. **Empty Range**  \n",
        "    - Show a case where `range(start, stop)` produces an empty sequence (e.g. `range(5, 2)`).  \n",
        "    - Print the result (should be no output).\n",
        "\n",
        "42. **Sum of a Range**  \n",
        "    - Use `sum(range(1, 11))` to find the sum of numbers 1 to 10 and print the result.\n",
        "\n",
        "43. **Indexing a Range**  \n",
        "    - Create a range object: `r = range(5, 15)`.  \n",
        "    - Print `r[0]`, `r[-1]`, and slice `r[2:5]`.  \n",
        "    - Convert the slice to a list and print it.\n",
        "\n",
        "44. **Checking Membership**  \n",
        "    - Write code that checks if `50` is in `range(0, 101, 10)`.  \n",
        "    - Print the result (`True` or `False`).\n",
        "\n",
        "45. **Length of a Range**  \n",
        "    - Create `r = range(0, 30, 3)`.  \n",
        "    - Convert it to a list and print its length.  \n",
        "    - Explain how the length is computed based on `(stop - start) / step`.\n",
        "\n",
        "46. **Range in a List Comprehension**  \n",
        "    - Use a list comprehension with `range(1, 6)` to create a list of squares: `[x*x for x in range(1, 6)]`.  \n",
        "    - Print the resulting list.\n",
        "\n",
        "47. **Skipping Values**  \n",
        "    - Print every third letter of the alphabet (e.g., `'a'`, `'d'`, `'g'`, etc.) by creating a string of the alphabet and using `range()` on indices.  \n",
        "    - Show how you skip letters with a step of `3`.\n",
        "\n",
        "48. **Comparing `range()` and `list(range())`**  \n",
        "    - Demonstrate that `range(100000)` is efficient, while `list(range(100000))` consumes more memory.  \n",
        "    - (For demonstration, just compare the type or lengths, don’t actually print all 100,000 numbers.)\n",
        "\n",
        "---\n",
        "\n",
        "## Mixed Assignments (49-50)\n",
        "\n",
        "49. **Combining Sets, Tuples, and Dictionaries**  \n",
        "    - Create a dictionary where each **key** is a tuple `(first_name, last_name)`, and each **value** is a set of courses that person is enrolled in. For example:\n",
        "      ```python\n",
        "      student_courses = {\n",
        "        (\"Alice\", \"Smith\"): {\"Math\", \"History\"},\n",
        "        (\"Bob\", \"Brown\"): {\"Science\", \"Art\"}\n",
        "      }\n",
        "      ```\n",
        "    - Add a new course to one of the sets.  \n",
        "    - Print the dictionary.  \n",
        "    - Explain how tuples are useful as dictionary keys (they’re immutable).\n",
        "\n",
        "50. **Using `range()` and a Dictionary Counter**  \n",
        "    - Ask the user for a start, stop, and step (all integers).  \n",
        "    - Generate a range object with those values.  \n",
        "    - Convert it into a list, then create a dictionary that counts how often each **digit** (0-9) appears across **all** the numbers in that list.  \n",
        "      - For example, if the list is `[10, 12, 14]`, the digits are `1, 0, 1, 2, 1, 4` — so the count for digit `1` is 3, etc.  \n",
        "    - Print the dictionary of digit counts.\n",
        "\n",
        "---\n",
        "\n",
        "#"
      ],
      "metadata": {
        "id": "OiIfmBPJKzJt"
      }
    }
  ]
}