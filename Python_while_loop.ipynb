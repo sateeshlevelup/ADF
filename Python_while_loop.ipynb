{
  "nbformat": 4,
  "nbformat_minor": 0,
  "metadata": {
    "colab": {
      "provenance": [],
      "authorship_tag": "ABX9TyMz4JpCgPTNmeotJJYOOER5",
      "include_colab_link": true
    },
    "kernelspec": {
      "name": "python3",
      "display_name": "Python 3"
    },
    "language_info": {
      "name": "python"
    }
  },
  "cells": [
    {
      "cell_type": "markdown",
      "metadata": {
        "id": "view-in-github",
        "colab_type": "text"
      },
      "source": [
        "<a href=\"https://colab.research.google.com/github/sateeshlevelup/ADF/blob/main/Python_while_loop.ipynb\" target=\"_parent\"><img src=\"https://colab.research.google.com/assets/colab-badge.svg\" alt=\"Open In Colab\"/></a>"
      ]
    },
    {
      "cell_type": "code",
      "execution_count": null,
      "metadata": {
        "id": "cpuV6FkF_SPW"
      },
      "outputs": [],
      "source": [
        "while condition:\n",
        "  # code to be executed repeatedly"
      ]
    },
    {
      "cell_type": "code",
      "source": [
        "i = 1               # start by setting a variable i to 1\n",
        "while i<=5: # check the condation \" i is less than or equal to 5\"\n",
        "  print(i)  # if the condation is True print the value of i\n",
        "  i += 1    # increase the value of i by 1 ( i = i+1)"
      ],
      "metadata": {
        "colab": {
          "base_uri": "https://localhost:8080/"
        },
        "id": "IXeauv04DEf3",
        "outputId": "7d0bde9c-5137-4c6f-a167-0582f6c298b1"
      },
      "execution_count": null,
      "outputs": [
        {
          "output_type": "stream",
          "name": "stdout",
          "text": [
            "1\n",
            "2\n",
            "3\n",
            "4\n",
            "5\n"
          ]
        }
      ]
    },
    {
      "cell_type": "code",
      "source": [
        "age = -1\n",
        "while age < 0 or age >120:\n",
        "  age =int(input(\"enter a valid age(0 -120):\"))\n",
        "print(\"thank you\")"
      ],
      "metadata": {
        "colab": {
          "base_uri": "https://localhost:8080/"
        },
        "id": "2WLiXeeXE_Tu",
        "outputId": "a2f14f09-6e1e-4abf-b733-ff331f89920d"
      },
      "execution_count": null,
      "outputs": [
        {
          "output_type": "stream",
          "name": "stdout",
          "text": [
            "enter a valid age(0 -120):-4\n",
            "enter a valid age(0 -120):2\n",
            "thank you\n"
          ]
        }
      ]
    },
    {
      "cell_type": "code",
      "source": [
        "while True:\n",
        "  text = input(\"Type something (or 'exit' to quit):\")\n",
        "  if text == \"good\":\n",
        "    break"
      ],
      "metadata": {
        "colab": {
          "base_uri": "https://localhost:8080/"
        },
        "id": "H7x5Zpp2GBrh",
        "outputId": "ee13db8b-9714-4438-c738-009d9255bae2"
      },
      "execution_count": null,
      "outputs": [
        {
          "name": "stdout",
          "output_type": "stream",
          "text": [
            "Type something (or 'exit' to quit):levelup\n",
            "Type something (or 'exit' to quit):bad\n",
            "Type something (or 'exit' to quit):good\n"
          ]
        }
      ]
    },
    {
      "cell_type": "code",
      "source": [
        "# Countdown timer\n",
        "countdown =10\n",
        "while countdown > 0:\n",
        "  print(countdown)\n",
        "  countdown -= 1\n",
        "\n",
        "print(\"Blast Off!\")"
      ],
      "metadata": {
        "colab": {
          "base_uri": "https://localhost:8080/"
        },
        "id": "wtvT2Nb6HDX5",
        "outputId": "a30d4397-28d2-4e1c-a14a-c56d3a39c69e"
      },
      "execution_count": null,
      "outputs": [
        {
          "output_type": "stream",
          "name": "stdout",
          "text": [
            "10\n",
            "9\n",
            "8\n",
            "7\n",
            "6\n",
            "5\n",
            "4\n",
            "3\n",
            "2\n",
            "1\n",
            "Blast Off!\n"
          ]
        }
      ]
    },
    {
      "cell_type": "code",
      "source": [
        "# roll dice unitl you get a 6\n",
        "\n",
        "import random\n",
        "roll = 0\n",
        "while roll != 6:\n",
        "  roll = random.randint(1,6)\n",
        "  print(\"Rolled:\", roll)\n",
        "print(\"You got a 6!\")"
      ],
      "metadata": {
        "colab": {
          "base_uri": "https://localhost:8080/"
        },
        "id": "AhznsgBSI8UD",
        "outputId": "66947990-4bd2-4516-e2ed-014ad080b3ca"
      },
      "execution_count": null,
      "outputs": [
        {
          "output_type": "stream",
          "name": "stdout",
          "text": [
            "Rolled: 4\n",
            "Rolled: 4\n",
            "Rolled: 2\n",
            "Rolled: 1\n",
            "Rolled: 1\n",
            "Rolled: 1\n",
            "Rolled: 6\n",
            "You got a 6!\n"
          ]
        }
      ]
    },
    {
      "cell_type": "code",
      "source": [
        "0,1,1,2,3,5"
      ],
      "metadata": {
        "id": "ahDxRrLPLYv_"
      },
      "execution_count": null,
      "outputs": []
    },
    {
      "cell_type": "code",
      "source": [
        "# print fibonacci sequence up to 50\n",
        "\n",
        "a,b = 0,1\n",
        "while a <=50:\n",
        "  print(a,end=\" \")\n",
        "  a,b=b,a+b\n",
        "\n"
      ],
      "metadata": {
        "colab": {
          "base_uri": "https://localhost:8080/"
        },
        "id": "N4Xx6NPlLRe8",
        "outputId": "566491c3-1d76-45a9-fa56-0cf7f3e300f7"
      },
      "execution_count": null,
      "outputs": [
        {
          "output_type": "stream",
          "name": "stdout",
          "text": [
            "0 1 1 2 3 5 8 13 21 34 "
          ]
        }
      ]
    },
    {
      "cell_type": "code",
      "source": [
        "# nested while loop\n",
        "\n",
        "i = 1\n",
        "while i <=3:\n",
        "  j = 1\n",
        "  while j <=3:\n",
        "    print(i,j)\n",
        "    j +=1\n",
        "  i += 1"
      ],
      "metadata": {
        "colab": {
          "base_uri": "https://localhost:8080/"
        },
        "id": "zyX726W-NF0C",
        "outputId": "d2842b48-3dfb-4b48-9212-6d1d7a830f1f"
      },
      "execution_count": null,
      "outputs": [
        {
          "output_type": "stream",
          "name": "stdout",
          "text": [
            "1 1\n",
            "1 2\n",
            "1 3\n",
            "2 1\n",
            "2 2\n",
            "2 3\n",
            "3 1\n",
            "3 2\n",
            "3 3\n"
          ]
        }
      ]
    },
    {
      "cell_type": "code",
      "source": [
        "# countine in while loop\n",
        "\n",
        "i =0\n",
        "while i < 10:\n",
        "  i += 1\n",
        "  if i % 2 ==0:\n",
        "    continue\n",
        "  print(i)"
      ],
      "metadata": {
        "colab": {
          "base_uri": "https://localhost:8080/"
        },
        "id": "ONR401j0N2RN",
        "outputId": "ffa4be40-670c-46a2-dd2c-819f6ce0ce7b"
      },
      "execution_count": null,
      "outputs": [
        {
          "output_type": "stream",
          "name": "stdout",
          "text": [
            "1\n",
            "3\n",
            "5\n",
            "7\n",
            "9\n"
          ]
        }
      ]
    },
    {
      "cell_type": "code",
      "source": [
        "# using a flag variable\n",
        "\n",
        "flag = True\n",
        "\n",
        "i = 1\n",
        "while flag:\n",
        "  print(i)\n",
        "  i += 1\n",
        "  if i > 5:\n",
        "    flag = False"
      ],
      "metadata": {
        "colab": {
          "base_uri": "https://localhost:8080/"
        },
        "id": "I22o42a7OcTt",
        "outputId": "666e8224-9535-4665-e4e5-b6d711799a2f"
      },
      "execution_count": null,
      "outputs": [
        {
          "output_type": "stream",
          "name": "stdout",
          "text": [
            "1\n",
            "2\n",
            "3\n",
            "4\n",
            "5\n"
          ]
        }
      ]
    }
  ]
}